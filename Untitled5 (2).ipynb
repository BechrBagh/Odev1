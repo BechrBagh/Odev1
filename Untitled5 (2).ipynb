{
 "cells": [
  {
   "cell_type": "code",
   "execution_count": 139,
   "metadata": {},
   "outputs": [],
   "source": [
    "import pandas as pd\n",
    "\n",
    "import numpy as np\n",
    "\n",
    "from sklearn.linear_model import LinearRegression\n",
    "\n",
    "from sklearn.tree import DecisionTreeRegressor\n",
    "\n",
    "from sklearn.ensemble import RandomForestRegressor\n",
    "\n",
    "from sklearn.metrics import r2_score,mean_absolute_error\n",
    "\n",
    "from sklearn.preprocessing import PolynomialFeatures\n",
    "\n",
    "from sklearn.metrics import r2_score,mean_squared_error,mean_absolute_error\n",
    "\n",
    "df=pd.read_csv(\"heart.csv\")"
   ]
  },
  {
   "cell_type": "code",
   "execution_count": 140,
   "metadata": {},
   "outputs": [],
   "source": [
    "x=df.iloc[:,0:8].values\n",
    "y=df.iloc[:,13:14].values\n",
    "\n",
    "mlr=LinearRegression()\n",
    "mlr.fit(x,y)\n",
    "mlr_pred=mlr.predict(x)\n",
    "\n",
    "plr=PolynomialFeatures(degree=3)\n",
    "\n",
    "x_pol=plr.fit_transform(x)\n",
    "mlr.fit(x_pol,y)\n",
    "\n",
    "dt=DecisionTreeRegressor()\n",
    "dt.fit(x,y)\n",
    "dt_pred=dt.predict(x)\n",
    "\n",
    "rf=RandomForestRegressor(n_estimators=100,random_state=42)\n",
    "rf.fit(x,y.ravel())\n",
    "rf_pred=rf.predict(x)"
   ]
  },
  {
   "cell_type": "code",
   "execution_count": 141,
   "metadata": {},
   "outputs": [
    {
     "name": "stdout",
     "output_type": "stream",
     "text": [
      "mlr r2: 0.38707192561769477 MAE: 0.3275312890183475 MSE: 0.15312569508190002\n",
      "Plr score: 0.6851871042537312\n",
      "dt r2: 1.0 MAE: 0.0 MSE: 0.0\n",
      "rf r2: 0.9982239383710386 MAE: 0.011863414634146346 MSE: 0.00044370731707317094\n"
     ]
    }
   ],
   "source": [
    "print(\"mlr r2:\",r2_score(y,mlr_pred),\"MAE:\",mean_absolute_error(y,mlr_pred),\"MSE:\",mean_squared_error(y,mlr_pred))\n",
    "print(\"Plr score:\",mlr.score(x_pol,y))\n",
    "print(\"dt r2:\",r2_score(y,dt_pred),\"MAE:\",mean_absolute_error(y,dt_pred),\"MSE:\",mean_squared_error(y,dt_pred))\n",
    "print(\"rf r2:\",r2_score(y,rf_pred),\"MAE:\",mean_absolute_error(y,rf_pred),\"MSE:\",mean_squared_error(y,rf_pred))"
   ]
  },
  {
   "cell_type": "code",
   "execution_count": 142,
   "metadata": {},
   "outputs": [],
   "source": [
    "from sklearn.model_selection import train_test_split\n",
    "x_train,x_test,y_train,y_test=train_test_split(x,y,test_size=0.25,random_state=42)\n",
    "\n",
    "mlr=LinearRegression()\n",
    "mlr.fit(x_train,y_train)\n",
    "mlr_pred=mlr.predict(x_test)\n",
    "dt=DecisionTreeRegressor(random_state=42)\n",
    "dt.fit(x_train,y_train)\n",
    "dt_pred=dt.predict(x_test)\n",
    "\n",
    "rf=RandomForestRegressor(n_estimators=100,random_state=42)\n",
    "rf.fit(x_train,y_train.ravel())\n",
    "rf_pred=rf.predict(x_test)"
   ]
  },
  {
   "cell_type": "code",
   "execution_count": 144,
   "metadata": {},
   "outputs": [
    {
     "name": "stdout",
     "output_type": "stream",
     "text": [
      "mlr r2: 0.37218800888734804 MAE: 0.3334666353189039 MSE: 0.15683655851502304\n",
      "dt r2: 0.9532727272727273 MAE: 0.011673151750972763 MSE: 0.011673151750972763\n",
      "rf r2: 0.9425363575757576 MAE: 0.06844357976653698 MSE: 0.01435525291828794\n"
     ]
    }
   ],
   "source": [
    "print(\"mlr r2:\",r2_score(y_test,mlr_pred),\"MAE:\",mean_absolute_error(y_test,mlr_pred),\"MSE:\",mean_squared_error(y_test,mlr_pred))\n",
    "print(\"dt r2:\",r2_score(y_test,dt_pred),\"MAE:\",mean_absolute_error(y_test,dt_pred),\"MSE:\",mean_squared_error(y_test,dt_pred))\n",
    "print(\"rf r2:\",r2_score(y_test,rf_pred),\"MAE:\",mean_absolute_error(y_test,rf_pred),\"MSE:\",mean_squared_error(y_test,rf_pred))\n"
   ]
  },
  {
   "cell_type": "code",
   "execution_count": null,
   "metadata": {},
   "outputs": [],
   "source": []
  },
  {
   "cell_type": "code",
   "execution_count": null,
   "metadata": {},
   "outputs": [],
   "source": []
  }
 ],
 "metadata": {
  "kernelspec": {
   "display_name": "Python 3",
   "language": "python",
   "name": "python3"
  },
  "language_info": {
   "codemirror_mode": {
    "name": "ipython",
    "version": 3
   },
   "file_extension": ".py",
   "mimetype": "text/x-python",
   "name": "python",
   "nbconvert_exporter": "python",
   "pygments_lexer": "ipython3",
   "version": "3.7.3"
  }
 },
 "nbformat": 4,
 "nbformat_minor": 2
}
